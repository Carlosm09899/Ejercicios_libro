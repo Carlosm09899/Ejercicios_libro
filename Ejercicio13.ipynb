{
 "cells": [
  {
   "cell_type": "code",
   "execution_count": 4,
   "metadata": {},
   "outputs": [],
   "source": [
    "import math"
   ]
  },
  {
   "cell_type": "markdown",
   "metadata": {},
   "source": [
    "# Ejercicio 13\n"
   ]
  },
  {
   "cell_type": "markdown",
   "metadata": {},
   "source": [
    "Una persona tiene un libro de cada uno de los autores siguientes: Mario Vargas Llosa,\n",
    "Alberto Ruy Sánchez, Gabriel García Márquez, Günther Grass, Patrick Süskind, Heinrich Böll,\n",
    "Arturo Pérez-Reverte y Camilo José Cela.\n",
    "\n",
    "Como aún no los ha leído, quiere ponerlos en una\n",
    "repisa cerca de su cama. De acuerdo con esto, determina:\n"
   ]
  },
  {
   "cell_type": "markdown",
   "metadata": {},
   "source": [
    "- a) ¿De cuántas formas puede acomodar los libros sobre la repisa?\n"
   ]
  },
  {
   "cell_type": "markdown",
   "metadata": {},
   "source": [
    "Debido a que no pide que se acomode de una manera en especifica, solamente necesitamos calcular el factorial del total de libros que tenemos\n",
    "\n",
    "Solución:\n",
    "\n",
    "$$\n",
    "\\begin{align}\n",
    "8! = 8 \\cdot 7 \\cdot 6 \\cdot 5 \\cdot 4 \\cdot 3 \\cdot 2 \\cdot 1 = 40{,}320\n",
    "\\end{align}\n",
    "$$\n",
    "\n",
    "Por lo cual existen **40,320 formas** de acomodar los libros \n",
    "\n"
   ]
  },
  {
   "cell_type": "code",
   "execution_count": 6,
   "metadata": {},
   "outputs": [
    {
     "name": "stdout",
     "output_type": "stream",
     "text": [
      "Hay 40320 formas de acomodar los libros sobre la repisa\n"
     ]
    }
   ],
   "source": [
    "# Implementación de la solución del incisio a) del ejercicio 13\n",
    "a = 8\n",
    "formas_acomodar = math.factorial(a)\n",
    "\n",
    "print(f'Hay {formas_acomodar} formas de acomodar los libros sobre la repisa')"
   ]
  },
  {
   "cell_type": "markdown",
   "metadata": {},
   "source": [
    "- b) ¿De cuántas maneras puede ordenarlos si quiere que los libros de autores latinoamericanos estén juntos?\n"
   ]
  },
  {
   "cell_type": "markdown",
   "metadata": {},
   "source": [
    "Antes de hacer los calculos correspondientes deberemos saber cuales autores son latinoamericanos\n",
    "\n",
    "Latinoamericanos: Mario Vargas Llosa, Alberto Ruy Sánchez, Gabriel García Márquez\n",
    "\n",
    "Conociendo que autores son Latinoamericanos los contemplaremos como un solo bloque, en lugar de tener 8 autores ahora tendremos 6 (Un bloque de autores Latinoamericanos y 5 de otros autores)\n",
    "\n",
    "- Primero, vamos a calcular el número de formas de ordenar estos 6 elementos:\n",
    "$$\n",
    "\\begin{align}\n",
    "6! = 6 \\cdot 5 \\cdot 4 \\cdot 3 \\cdot 2 \\cdot 1 = 720\n",
    "\\end{align}\n",
    "$$\n",
    "\n",
    "- Debemos considerar que los 3 libros dentro del bloque de Latinoamericanos se pueden ordenar de maneras diferentes, por lo cual calculamos las formas en que se pueden ordenar ese bloque de manera interna\n",
    "$$\n",
    "\\begin{align}\n",
    "3! = 3 \\cdot 2 \\cdot 1 = 6\n",
    "\\end{align}\n",
    "$$\n",
    "\n",
    "- Para obtener el número total de formas de ordenar los libros, multiplicamos las permutaciones de los 6 elementos por las permutaciones dentro del bloque latinoamericano:\n",
    "$$\n",
    "\\begin{align}\n",
    "6! \\cdot 3! = 720 \\cdot 6 = 4{,}320\n",
    "\\end{align}\n",
    "$$\n",
    "\n",
    "Entonces existe **4320 maneras** de ordenarlos si solo los autores latinoamericanos deben de estar juntos \n"
   ]
  },
  {
   "cell_type": "code",
   "execution_count": 9,
   "metadata": {},
   "outputs": [
    {
     "name": "stdout",
     "output_type": "stream",
     "text": [
      "Existen 4320 maneras de ordenar los libros si los autores latinoamericanos deben de estar juntos\n"
     ]
    }
   ],
   "source": [
    "# Implementación de la solución del incisio b) del ejercicio 13\n",
    "\n",
    "resto_autores = 6\n",
    "lat_autores = 3\n",
    "\n",
    "# Maneras de ordenar 6 elementos\n",
    "libros_6_ = math.factorial(resto_autores)\n",
    "\n",
    "# Maneras de ordenar 3 libros dentro del bloque\n",
    "libros_3_ = math.factorial(lat_autores)\n",
    "\n",
    "# Número total de maneras\n",
    "total = libros_6_ * libros_3_\n",
    "\n",
    "\n",
    "print(f'Existen {total} maneras de ordenar los libros si los autores latinoamericanos deben de estar juntos')\n"
   ]
  },
  {
   "cell_type": "markdown",
   "metadata": {},
   "source": [
    "- c) ¿De cuántas formas puede acomodarlos, si los autores latinoamericanos deben estar juntos, así como los autores alemanes y los españoles también?\n"
   ]
  },
  {
   "cell_type": "markdown",
   "metadata": {},
   "source": [
    "Necesitamos saber cuales son los autores Alemanes y Españoles\n",
    "Alemanes: Günther Grass, Patrick Süskind, Heinrich Böll\n",
    "Españoles: Arturo Pérez-Reverte, Camilo José Cela\n",
    "\n",
    "Una vez sabiendo esto los separaremos en 3 bloques \n",
    "Bloque 1: Autores Latinoamericanos (Mario Vargas Llosa, Alberto Ruy Sánchez, Gabriel García Márquez)\n",
    "Bloque 2: Autores Alemanes (Günther Grass, Patrick Süskind, Heinrich Böll)\n",
    "Bloque 3: Autores Españoles (Arturo Pérez-Reverte, Camilo José Cela)\n",
    "\n",
    "- Primero, calculamos el número de formas de ordenar estos 3 bloques:\n",
    "$$\n",
    "\\begin{align}\n",
    "3! = 3 \\cdot 2 \\cdot 1 = 6\n",
    "\\end{align}\n",
    "$$\n",
    "\n",
    "- Ahora calculamos las formas de ordenar dentro de cada bloque \n",
    "$$\n",
    "\\begin{align}\n",
    "Latinoamericanos: ~ 3! = 3 \\cdot 2 \\cdot 1 = 6 \\\\\n",
    "Alemanes: ~ 3! = 3 \\cdot 2 \\cdot 1 = 6 \\\\\n",
    "Españoles: ~ 2! = 2 \\cdot 1 = 2 \\\\\n",
    "\\end{align}\n",
    "$$\n",
    "\n",
    "- Para obtener el número total de formas de ordenar los libros, multiplicamos las permutaciones de los 3 bloques por las permutaciones dentro de cada bloque:\n",
    "$$\n",
    "\\begin{align}\n",
    "3! \\cdot 3! \\cdot 3! \\cdot 2!= 6 \\cdot 6 \\cdot 6 \\cdot 2 = 432\n",
    "\\end{align}\n",
    "$$\n",
    "\n",
    "Entonces llegamos a la conclusión de que existen **432 maneras** de acomodar los libros si los autores latinoamericanos, alemanes y españoles deben estar juntos\n",
    "\n",
    "\n",
    "\n",
    "\n",
    "\n",
    "\n"
   ]
  },
  {
   "cell_type": "code",
   "execution_count": 10,
   "metadata": {},
   "outputs": [
    {
     "name": "stdout",
     "output_type": "stream",
     "text": [
      "Entonces existen 432 maneras de acomodar los libros si se desea que los autores latinoamericanos, alemanes y españoles esten juntos\n"
     ]
    }
   ],
   "source": [
    "# Implementación de la solución del incisio b) del ejercicio 13\n",
    "\n",
    "lat_autores = 3\n",
    "al_autores = 3\n",
    "es_autores = 2\n",
    "\n",
    "# Número de maneras de ordenar 3 bloques (Los autores de dividen en 3 bloques)\n",
    "permutaciones_b = math.factorial(3)\n",
    "\n",
    "# Maneras de ordenar libros dentro de cada bloque\n",
    "permutaciones_la = math.factorial(lat_autores)\n",
    "permutaciones_al = math.factorial(al_autores)\n",
    "permutaciones_es = math.factorial(es_autores)\n",
    "\n",
    "# Número total de formas\n",
    "total = (permutaciones_b * permutaciones_la * permutaciones_al * permutaciones_es)\n",
    "\n",
    "print(f'Entonces existen {total} maneras de acomodar los libros si se desea que los autores latinoamericanos, alemanes y españoles esten juntos')"
   ]
  },
  {
   "cell_type": "markdown",
   "metadata": {},
   "source": [
    "- d) Determina las probabilidades correspondientes a los incisos (b) y (c)."
   ]
  },
  {
   "cell_type": "markdown",
   "metadata": {},
   "source": [
    "En el inciso (b), queremos encontrar la probabilidad de que los libros de autores latinoamericanos estén juntos.\n",
    "- Número total de formas de acomodar los libros:\n",
    "$$\n",
    "\\begin{align}\n",
    "8! = 40{,}320\n",
    "\\end{align}\n",
    "$$\n",
    "- Número de formas de acomodar los libros con los autores latinoamericanos juntos:\n",
    "$$\n",
    "\\begin{align}\n",
    "4{,}320\n",
    "\\end{align}\n",
    "$$\n",
    "- Probabilidad\n",
    "$$\n",
    "\\begin{align}\n",
    "P(Latinoamericanos~juntos) &= \\dfrac{4320}{40320} &= 0.107 \n",
    "\\end{align}\n",
    "$$\n",
    "\n",
    "Entonces la probabilidad de que los autores latinoamericanos estén juntos es de 0.107\n",
    "\n",
    "\n"
   ]
  },
  {
   "cell_type": "markdown",
   "metadata": {},
   "source": [
    "En el inciso (c), queremos encontrar la probabilidad de que los autores latinoamericanos, alemanes y españoles estén juntos en sus respectivos grupos\n",
    "\n",
    "- Número total de formas de acomodar los libros:\n",
    "$$\n",
    "\\begin{align}\n",
    "8! = 40{,}320\n",
    "\\end{align}\n",
    "$$\n",
    "- Número de formas de acomodar los libros con los autores latinoamericanos, alemanes y españoles juntos en sus respectivos grupos:\n",
    "$$\n",
    "\\begin{align}\n",
    "432\n",
    "\\end{align}\n",
    "$$\n",
    "- Probabilidad\n",
    "$$\n",
    "\\begin{align}\n",
    "P(Todos~los~grupos~juntos) &= \\dfrac{432}{40320} &= 0.0107 \n",
    "\\end{align}\n",
    "$$\n",
    "\n",
    "Entonces la probabilidad de que los autores latinoamericanos, alemanes y españoles estén juntos es de 0.0107"
   ]
  },
  {
   "cell_type": "code",
   "execution_count": 11,
   "metadata": {},
   "outputs": [
    {
     "name": "stdout",
     "output_type": "stream",
     "text": [
      "Probabilidad del inciso (b): 0.10714285714285714\n",
      "Probabilidad del inciso (c): 0.010714285714285714\n"
     ]
    }
   ],
   "source": [
    "# Implementación de la solución del incisio b) del ejercicio 13\n",
    "\n",
    "# Número total de maneras de ordenar 8 libros\n",
    "total_m = 40320\n",
    "\n",
    "# Probabilidad para el inciso (b)\n",
    "probabilidad_b = 4320 / total_m\n",
    "\n",
    "# Probabilidad para el inciso (c)\n",
    "probabilidad_c = 432 / total_m\n",
    "\n",
    "print(\"Probabilidad del inciso (b):\", probabilidad_b)\n",
    "print(\"Probabilidad del inciso (c):\", probabilidad_c)"
   ]
  }
 ],
 "metadata": {
  "kernelspec": {
   "display_name": "Python 3",
   "language": "python",
   "name": "python3"
  },
  "language_info": {
   "codemirror_mode": {
    "name": "ipython",
    "version": 3
   },
   "file_extension": ".py",
   "mimetype": "text/x-python",
   "name": "python",
   "nbconvert_exporter": "python",
   "pygments_lexer": "ipython3",
   "version": "3.12.1"
  }
 },
 "nbformat": 4,
 "nbformat_minor": 2
}
