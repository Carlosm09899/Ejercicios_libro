{
 "cells": [
  {
   "cell_type": "code",
   "execution_count": 1,
   "metadata": {},
   "outputs": [],
   "source": [
    "import math"
   ]
  },
  {
   "cell_type": "markdown",
   "metadata": {},
   "source": [
    "# Ejercicio 14\n"
   ]
  },
  {
   "cell_type": "markdown",
   "metadata": {},
   "source": [
    "Finanzas. Se va a formar un portafolio de inversión de cuatro instrumentos financieros a partir\n",
    "de cinco de renta fija y seis de renta variable. ¿De cuántas maneras podría formarse el portafolio\n",
    "si:"
   ]
  },
  {
   "cell_type": "markdown",
   "metadata": {},
   "source": [
    "- a) No hay restricciones?\n"
   ]
  },
  {
   "cell_type": "markdown",
   "metadata": {},
   "source": [
    "Debido a que no hay restricciones en la selección de los instrumentos financieros, tenemos que elegir 4 instrumentos de los 11 disponibles (5 de renta fija y 6 de renta variable).\n",
    "Utilizaremos la formula de combinaciones\n",
    "$$\n",
    "_nC_r = \\dfrac{n!}{r!(n - r )!}\n",
    "$$\n",
    "\n",
    "Calculamos las combinaciones de 4 instrumentos de los 11 posibles\n",
    "$$\n",
    "\\begin {align}\n",
    "    _11C_4 = \\dfrac{11!}{4!(11 - 4 )!}\\\\\n",
    "    _11C_4 = \\dfrac{11!}{4!(7)!}\\\\\n",
    "    _11C_4 = \\dfrac{11 \\cdot 10 \\cdot 9 \\cdot 8 \\cdot 7!}{4!(7)!}\\\\\n",
    "    _11C_4 = \\dfrac{11 \\cdot 10 \\cdot 9 \\cdot 8}{4 \\cdot 3 \\cdot 2 \\cdot 1}\\\\\n",
    "    _11C_4 = \\dfrac{7920}{24}\\\\\n",
    "    _11C_4 = 330    \n",
    "\\end{align}\n",
    "$$\n",
    "Entonces hay **330 maneras** de formar el portafolio sin restricciones.\n"
   ]
  },
  {
   "cell_type": "code",
   "execution_count": 4,
   "metadata": {},
   "outputs": [
    {
     "name": "stdout",
     "output_type": "stream",
     "text": [
      "Existen 330 maneras de formar el portafolio sin restricciones\n"
     ]
    }
   ],
   "source": [
    "# Implementación de la solución del incisio a) del ejercicio 14\n",
    "\n",
    "n, r = 11, 4\n",
    "\n",
    "sin_restricciones = math.comb(n, r)\n",
    "\n",
    "print(f'Existen {sin_restricciones} maneras de formar el portafolio sin restricciones')"
   ]
  },
  {
   "cell_type": "markdown",
   "metadata": {},
   "source": [
    "- b) Debe haber dos instrumentos de renta fija y dos de renta variable?\n"
   ]
  },
  {
   "cell_type": "markdown",
   "metadata": {},
   "source": [
    "Seguiremos utilizando combinaciones, por lo cual primero vamos a elegir 2 instrumentos de renta fija de los 5 que están disponibles\n",
    "\n",
    "$$\n",
    "\\begin {align}\n",
    "    _5C_2 = \\dfrac{5!}{2!(5 - 2 )!}\\\\\n",
    "    _5C_2 = \\dfrac{5!}{2!(3)!}\\\\\n",
    "    _5C_2 = \\dfrac{5 \\cdot 4 \\cdot 3!}{2!(3)!}\\\\\n",
    "    _5C_2 = \\dfrac{5 \\cdot 4}{2 \\cdot 1 }\\\\\n",
    "    _5C_2 = \\dfrac{20}{2}\\\\\n",
    "    _5C_2 = 10    \n",
    "\\end{align}\n",
    "$$\n",
    "\n",
    "Ahora vamos a elegir 2 instrumentos de renta variable de los 6 que estan disponibles \n",
    "$$\n",
    "\\begin {align}\n",
    "    _6C_2 = \\dfrac{6!}{2!(6 - 2 )!}\\\\\n",
    "    _6C_2 = \\dfrac{6!}{2!(4)!}\\\\\n",
    "    _6C_2 = \\dfrac{6 \\cdot 5 \\cdot 4!}{2!(4)!}\\\\\n",
    "    _6C_2 = \\dfrac{6 \\cdot 5}{2 \\cdot 1 }\\\\\n",
    "    _6C_2 = \\dfrac{30}{2}\\\\\n",
    "    _6C_2 = 15    \n",
    "\\end{align}\n",
    "$$\n",
    "Por ultimo vamos a multiplicar las combinaciones \n",
    "$$\n",
    "\\begin {align}\n",
    "_5C_2 ~ \\cdot ~ _6C_2 = 10 \\cdot 15 = 150\n",
    "\\end{align}\n",
    "$$\n",
    "\n",
    "Entonces sabemos que hay 150 maneras de formar el portafolio si se debe de tener dos instrumentos de renta fija y dos de renta variable"
   ]
  },
  {
   "cell_type": "code",
   "execution_count": 6,
   "metadata": {},
   "outputs": [
    {
     "name": "stdout",
     "output_type": "stream",
     "text": [
      "El número de maneras de formar el portafolio con 2 instrumentos de renta fija y 2 de renta variable es: 150\n"
     ]
    }
   ],
   "source": [
    "# Implementación de la solución del incisio b) del ejercicio 14\n",
    "\n",
    "# Definir los valores\n",
    "renta_fija = 5\n",
    "renta_variable = 6\n",
    "portafolio = 4\n",
    "\n",
    "# Calcular las combinaciones\n",
    "combinaciones_renta_fija = math.comb(renta_fija, 2)\n",
    "combinaciones_renta_variable = math.comb(renta_variable, 2)\n",
    "\n",
    "# Multiplicar las combinaciones para obtener el total\n",
    "num_total_combinaciones = combinaciones_renta_fija * combinaciones_renta_variable\n",
    "\n",
    "print(f\"El número de maneras de formar el portafolio con 2 instrumentos de renta fija y 2 de renta variable es: {num_total_combinaciones}\")"
   ]
  },
  {
   "cell_type": "markdown",
   "metadata": {},
   "source": [
    "- c) No debe haber ningún instrumento de renta fija?\n"
   ]
  },
  {
   "cell_type": "markdown",
   "metadata": {},
   "source": [
    "Para calcular el número de maneras de formar el portafolio si no debe haber ningún instrumento de renta fija (es decir, todos los instrumentos deben ser de renta variable)\n",
    "\n",
    "Debemos de elegir 4 instrumentos de renta variable de los 6 que estan disponibles\n",
    "$$\n",
    "\\begin {align}\n",
    "    _6C_4 = \\dfrac{6!}{4!(6 - 4 )!}\\\\\n",
    "    _6C_4 = \\dfrac{6!}{4!(2)!}\\\\\n",
    "    _6C_4 = \\dfrac{6 \\cdot 5 \\cdot 4!}{4!(2)!}\\\\\n",
    "    _6C_4 = \\dfrac{6 \\cdot 5}{2 \\cdot 1 }\\\\\n",
    "    _6C_4 = \\dfrac{30}{2}\\\\\n",
    "    _6C_4 = 15    \n",
    "\\end{align}\n",
    "$$\n",
    "Entonces existen 15 maneras de formar el portafolio sin ningún instrumento de renta fija"
   ]
  },
  {
   "cell_type": "code",
   "execution_count": 7,
   "metadata": {},
   "outputs": [
    {
     "name": "stdout",
     "output_type": "stream",
     "text": [
      "El número de maneras de formar el portafolio sin ningún instrumento de renta fija es: 15\n"
     ]
    }
   ],
   "source": [
    "# Implementación de la solución del incisio c) del ejercicio 14\n",
    "\n",
    "# Definir los valores\n",
    "renta_variable = 6\n",
    "portafolio = 4\n",
    "\n",
    "# Calcular las combinaciones\n",
    "num_combinaciones = math.comb(renta_variable, portafolio)\n",
    "\n",
    "print(f\"El número de maneras de formar el portafolio sin ningún instrumento de renta fija es: {num_combinaciones}\")\n"
   ]
  },
  {
   "cell_type": "markdown",
   "metadata": {},
   "source": [
    "- d) Debe haber tres instrumentos de renta fija?\n"
   ]
  },
  {
   "cell_type": "markdown",
   "metadata": {},
   "source": [
    "Primeramente deberemos de elegir 3 instrumentos de renta fija de los 5 que tenemos disponibles \n",
    "\n",
    "$$\n",
    "\\begin {align}\n",
    "    _5C_3 = \\dfrac{5!}{3!(5 - 3)!}\\\\\n",
    "    _5C_3 = \\dfrac{5!}{3!(2)!}\\\\\n",
    "    _5C_3 = \\dfrac{5 \\cdot 4 \\cdot 3!}{3!(2)!}\\\\\n",
    "    _5C_3 = \\dfrac{5 \\cdot 4}{2 \\cdot 1 }\\\\\n",
    "    _5C_3 = \\dfrac{20}{2}\\\\\n",
    "    _5C_3 = 10    \n",
    "\\end{align}\n",
    "$$\n",
    "\n",
    "Ahora debemos de elegir 1 instrumento de renta variable de los 6 disponibles\n",
    "$$\n",
    "\\begin {align}\n",
    "    _6C_1 = \\dfrac{6!}{1!(6 - 1)!}\\\\\n",
    "    _6C_1 = \\dfrac{6!}{1!(5)!}\\\\\n",
    "    _6C_1 = \\dfrac{6 \\cdot 5!}{1!(5)!}\\\\\n",
    "    _6C_1 = \\dfrac{6}{1}\\\\\n",
    "    _6C_1 = 6    \n",
    "\\end{align}\n",
    "$$\n",
    "\n",
    "Por ultimo tenemos que multiplicar ambas combinaciones\n",
    "$$\n",
    "\\begin{align}\n",
    "_5C_3 ~ \\cdot ~ _6C_1 = 10 \\cdot 6 = 60\n",
    "\\end{align}\n",
    "$$\n",
    "\n",
    "Entonces tenemos como resultado que hay 60 maneras de formar el portafolio si debe de haber 3 instrumentos de renta fija"
   ]
  },
  {
   "cell_type": "code",
   "execution_count": 8,
   "metadata": {},
   "outputs": [
    {
     "name": "stdout",
     "output_type": "stream",
     "text": [
      "El número de maneras de formar el portafolio con exactamente 3 instrumentos de renta fija y 1 de renta variable es: 60\n"
     ]
    }
   ],
   "source": [
    "# Implementación de la solución del incisio d) del ejercicio 14\n",
    "\n",
    "# Calcular las combinaciones\n",
    "combinaciones_renta_fija = math.comb(renta_fija, 3)\n",
    "combinaciones_renta_variable = math.comb(renta_variable, 1)\n",
    "\n",
    "# Multiplicar las combinaciones para obtener el total\n",
    "total_combinaciones = combinaciones_renta_fija * combinaciones_renta_variable\n",
    "\n",
    "print(f\"El número de maneras de formar el portafolio con exactamente 3 instrumentos de renta fija y 1 de renta variable es: {total_combinaciones}\")\n"
   ]
  },
  {
   "cell_type": "markdown",
   "metadata": {},
   "source": [
    "- e) Calcula las probabilidades para los incisos anteriores.\n"
   ]
  },
  {
   "cell_type": "markdown",
   "metadata": {},
   "source": [
    "La probabilidad del inciso a) es 1 debido a que se consideran todas las combinaciones posibles \n",
    "\n",
    "$$\n",
    "\\begin{align}\n",
    "P(Sin~restricciones) = \\dfrac{330}{330} = 1\n",
    "\\end{align}\n",
    "$$\n",
    "\n",
    "Probabilidad inciso b) (Dos renta fija y dos de renta variable)\n",
    "\n",
    "Sabemos que hay 150 maneras de formar el portafolio con esa condición, entonces:  \n",
    "$$\n",
    "\\begin{align}\n",
    "P(2~renta~fija~y~2~renta~variable) = \\dfrac{150}{330} = 0.4545  \n",
    "\\end{align}\n",
    "$$\n",
    "\n",
    "Probabilidad inciso c) (Ningún instrumento de renta fija)\n",
    "Sabemos que hay 15 maneras de formar el portafolio con dicha condición, entonces: \n",
    "$$\n",
    "\\begin{align}\n",
    "P(0~renta~fija) = \\dfrac{15}{330} = 0.0455\n",
    "\\end{align}\n",
    "$$\n",
    "\n",
    "Probabilidad inciso d) (3 instrumentos de renta fija)\n",
    "Sabemos que hay 60 maneras de formar el portafolio con esa condición, entonces:\n",
    "$$\n",
    "\\begin{align}\n",
    "P(3~renta~fija) = \\dfrac{60}{330} = 0.1818\n",
    "\\end{align}\n",
    "$$\n"
   ]
  },
  {
   "cell_type": "code",
   "execution_count": 9,
   "metadata": {},
   "outputs": [
    {
     "name": "stdout",
     "output_type": "stream",
     "text": [
      "Probabilidad para el inciso b): 0.4545\n",
      "Probabilidad para el inciso c): 0.0455\n",
      "Probabilidad para el inciso d): 0.1818\n"
     ]
    }
   ],
   "source": [
    "# Probabilidades para los diferentes incisos\n",
    "prob_a = 1.0  # Probabilidad para inciso a) sin restricciones es siempre 1.0\n",
    "\n",
    "# Número de combinaciones calculadas previamente\n",
    "num_comb_b = 150\n",
    "num_comb_c = 15\n",
    "num_comb_d = 60\n",
    "\n",
    "# Número total de combinaciones sin restricciones\n",
    "total_combinations = 330\n",
    "\n",
    "# Calcular probabilidades para los incisos b), c) y d)\n",
    "prob_b = num_comb_b / total_combinations\n",
    "prob_c = num_comb_c / total_combinations\n",
    "prob_d = num_comb_d / total_combinations\n",
    "\n",
    "print(f\"Probabilidad para el inciso b): {prob_b:.4f}\")\n",
    "print(f\"Probabilidad para el inciso c): {prob_c:.4f}\")\n",
    "print(f\"Probabilidad para el inciso d): {prob_d:.4f}\")\n"
   ]
  },
  {
   "cell_type": "markdown",
   "metadata": {},
   "source": [
    "f) Investiga qué es un instrumento de renta fija y otro de renta variable.\n",
    "\n",
    "Renta fija: Los instrumentos de renta fija son activos financieros que representan un préstamo que un inversionista hace a un emisor (generalmente un gobierno, una empresa o una entidad financiera) a cambio de recibir pagos de interés regulares y el reembolso del capital al vencimiento del instrumento.\n",
    "\n",
    "Renta Variable: son activos financieros cuyo valor puede fluctuar en el mercado, lo que significa que no hay certeza sobre el rendimiento de la inversión y el inversor asume un mayor riesgo en comparación con los instrumentos de renta fija."
   ]
  }
 ],
 "metadata": {
  "kernelspec": {
   "display_name": "Python 3",
   "language": "python",
   "name": "python3"
  },
  "language_info": {
   "codemirror_mode": {
    "name": "ipython",
    "version": 3
   },
   "file_extension": ".py",
   "mimetype": "text/x-python",
   "name": "python",
   "nbconvert_exporter": "python",
   "pygments_lexer": "ipython3",
   "version": "3.12.1"
  }
 },
 "nbformat": 4,
 "nbformat_minor": 2
}
